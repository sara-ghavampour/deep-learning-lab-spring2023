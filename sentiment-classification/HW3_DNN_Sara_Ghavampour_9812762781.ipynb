{
  "cells": [
    {
      "cell_type": "code",
      "execution_count": 1,
      "metadata": {
        "id": "fB4lAP7F9dWl"
      },
      "outputs": [],
      "source": [
        "import pandas as pd\n",
        "import numpy as np\n",
        "from nltk.corpus import stopwords\n",
        "from sklearn.model_selection import train_test_split\n",
        "import tensorflow as tf\n",
        "from tensorflow.keras.preprocessing.text import Tokenizer\n",
        "from tensorflow.keras.preprocessing.sequence import pad_sequences\n",
        "from tensorflow.keras.models import Sequential\n",
        "from tensorflow.keras.layers import Embedding, LSTM, Dense,Dropout,Bidirectional,GRU,SimpleRNN\n",
        "from tensorflow.keras import regularizers\n",
        "import re\n",
        "import os\n",
        "import json\n",
        "import nltk\n",
        "import gzip\n",
        "from nltk.stem.snowball import SnowballStemmer\n",
        "snow_stemmer = SnowballStemmer(language='english')\n",
        "NUM_Classes = 5\n",
        "EPOCHS_NUM = 5"
      ]
    },
    {
      "cell_type": "code",
      "execution_count": 2,
      "metadata": {
        "colab": {
          "base_uri": "https://localhost:8080/"
        },
        "id": "P9qXlPGjDaKh",
        "outputId": "16ba2fac-5fdb-4e99-8192-a8479c9b214e"
      },
      "outputs": [
        {
          "output_type": "stream",
          "name": "stderr",
          "text": [
            "[nltk_data] Downloading package stopwords to /root/nltk_data...\n",
            "[nltk_data]   Unzipping corpora/stopwords.zip.\n"
          ]
        },
        {
          "output_type": "execute_result",
          "data": {
            "text/plain": [
              "True"
            ]
          },
          "metadata": {},
          "execution_count": 2
        }
      ],
      "source": [
        "nltk.download('stopwords')"
      ]
    },
    {
      "cell_type": "code",
      "execution_count": 3,
      "metadata": {
        "id": "6o8F_BjGDdLj"
      },
      "outputs": [],
      "source": [
        "english_stops = set(stopwords.words('english'))"
      ]
    },
    {
      "cell_type": "code",
      "execution_count": 4,
      "metadata": {
        "colab": {
          "base_uri": "https://localhost:8080/"
        },
        "id": "8Xu9ICPa7VB6",
        "outputId": "c58d13a1-ae4c-4827-8dc9-f166646a715c"
      },
      "outputs": [
        {
          "output_type": "stream",
          "name": "stdout",
          "text": [
            "--2023-06-13 05:33:50--  http://wget/\n",
            "Resolving wget (wget)... failed: Name or service not known.\n",
            "wget: unable to resolve host address ‘wget’\n",
            "--2023-06-13 05:33:50--  https://docs.google.com/uc?export=download&confirm=t&id=124bgAX2yrB9z8an1tMj7SwQ3nRekuzZs\n",
            "Resolving docs.google.com (docs.google.com)... 209.85.146.139, 209.85.146.100, 209.85.146.113, ...\n",
            "Connecting to docs.google.com (docs.google.com)|209.85.146.139|:443... connected.\n",
            "HTTP request sent, awaiting response... 303 See Other\n",
            "Location: https://doc-0g-64-docs.googleusercontent.com/docs/securesc/ha0ro937gcuc7l7deffksulhg5h7mbp1/ir3uotmo76kh1p94j7lq32odh043ifs1/1686634425000/01865608280713457520/*/124bgAX2yrB9z8an1tMj7SwQ3nRekuzZs?e=download&uuid=9a36e8a3-1bc4-4e30-9c1e-9fc68417e171 [following]\n",
            "Warning: wildcards not supported in HTTP.\n",
            "--2023-06-13 05:33:50--  https://doc-0g-64-docs.googleusercontent.com/docs/securesc/ha0ro937gcuc7l7deffksulhg5h7mbp1/ir3uotmo76kh1p94j7lq32odh043ifs1/1686634425000/01865608280713457520/*/124bgAX2yrB9z8an1tMj7SwQ3nRekuzZs?e=download&uuid=9a36e8a3-1bc4-4e30-9c1e-9fc68417e171\n",
            "Resolving doc-0g-64-docs.googleusercontent.com (doc-0g-64-docs.googleusercontent.com)... 108.177.111.132, 2607:f8b0:4001:c07::84\n",
            "Connecting to doc-0g-64-docs.googleusercontent.com (doc-0g-64-docs.googleusercontent.com)|108.177.111.132|:443... connected.\n",
            "HTTP request sent, awaiting response... 200 OK\n",
            "Length: 414308704 (395M) [application/x-gzip]\n",
            "Saving to: ‘Sports_and_Outdoors_5.json.gz’\n",
            "\n",
            "Sports_and_Outdoors 100%[===================>] 395.12M  59.6MB/s    in 6.0s    \n",
            "\n",
            "2023-06-13 05:33:57 (65.5 MB/s) - ‘Sports_and_Outdoors_5.json.gz’ saved [414308704/414308704]\n",
            "\n",
            "FINISHED --2023-06-13 05:33:57--\n",
            "Total wall clock time: 6.6s\n",
            "Downloaded: 1 files, 395M in 6.0s (65.5 MB/s)\n"
          ]
        }
      ],
      "source": [
        "!wget wget --load-cookies /tmp/cookies.txt \"https://docs.google.com/uc?export=download&confirm=$(wget --quiet --save-cookies /tmp/cookies.txt --keep-session-cookies --no-check-certificate 'https://docs.google.com/uc?export=download&id=124bgAX2yrB9z8an1tMj7SwQ3nRekuzZs' -O- | sed -rn 's/.*confirm=([0-9A-Za-z_]+).*/\\1\\n/p')&id=124bgAX2yrB9z8an1tMj7SwQ3nRekuzZs\" -O Sports_and_Outdoors_5.json.gz && rm -rf /tmp/cookies.txt"
      ]
    },
    {
      "cell_type": "code",
      "source": [
        "import gensim.downloader as api\n",
        "wv_model = api.load('glove-wiki-gigaword-100')"
      ],
      "metadata": {
        "colab": {
          "base_uri": "https://localhost:8080/"
        },
        "id": "Z4PQtzQZbSIl",
        "outputId": "1e1db424-71c5-43df-e64f-e5f199ecffc1"
      },
      "execution_count": 5,
      "outputs": [
        {
          "output_type": "stream",
          "name": "stdout",
          "text": [
            "[==================================================] 100.0% 128.1/128.1MB downloaded\n"
          ]
        }
      ]
    },
    {
      "cell_type": "code",
      "execution_count": 6,
      "metadata": {
        "id": "v60D1ckWCxWi"
      },
      "outputs": [],
      "source": [
        "def read_data(n=1000):\n",
        "    data_json = gzip.open('Sports_and_Outdoors_5.json.gz', 'rt', encoding='UTF-8')\n",
        "\n",
        "\n",
        "    data = {'review':[], 'overall':[]}\n",
        "    for i in range(n):\n",
        "        try:\n",
        "            d = json.loads(data_json.readline())\n",
        "            # print(d)\n",
        "            data['review'].append(d['reviewText'])\n",
        "            data['overall'].append(int(d['overall']))\n",
        "        except:\n",
        "            pass\n",
        "            \n",
        "    df = pd.DataFrame(data) \n",
        "\n",
        "\n",
        "    x_data = df['review']\n",
        "    y_data = df['overall']\n",
        "\n",
        "    x_data = x_data.replace({'<.*?>': ''}, regex=True)  # remove html tag\n",
        "    x_data = x_data.replace({'[^0-9A-Za-z #+_]': ' '}, regex=True)# remove non alphabet\n",
        "    x_data = x_data.apply(lambda review: [w for w in review.split() if w not in english_stops])  # remove stop words\n",
        "    x_data = x_data.apply(lambda review: [w.lower() for w in review])\n",
        "    x_data = x_data.apply(lambda review: [snow_stemmer.stem(w) for w in review]) # stem\n",
        "\n",
        "    return x_data, y_data"
      ]
    },
    {
      "cell_type": "code",
      "source": [
        "def one_hot(y):\n",
        "    ret = np.zeros((y.size, y.max()))\n",
        "\n",
        "    ret[np.arange(y.size), y-1] = 1.0\n",
        "    return ret"
      ],
      "metadata": {
        "id": "bcRUnhE06qaY"
      },
      "execution_count": 7,
      "outputs": []
    },
    {
      "cell_type": "code",
      "execution_count": 8,
      "metadata": {
        "id": "qGUyewz4t3R5"
      },
      "outputs": [],
      "source": [
        "def one_hot_matrix(integer_array, num_classes):\n",
        "    num_examples = len(integer_array)\n",
        "    one_hot_matrix = np.zeros((num_examples, num_classes))\n",
        "    \n",
        "    for i, integer_value in enumerate(integer_array):\n",
        "        one_hot_matrix[i, integer_value-1] = 1\n",
        "    \n",
        "    return one_hot_matrix\n"
      ]
    },
    {
      "cell_type": "code",
      "execution_count": 9,
      "metadata": {
        "id": "jYhgFF_3G2dl"
      },
      "outputs": [],
      "source": [
        "def global_length(x_train): ## mean of lenghts \n",
        "    review_length = []\n",
        "    for review in x_train:\n",
        "        review_length.append(len(review))\n",
        "\n",
        "    return int(np.ceil(np.mean(review_length)))"
      ]
    },
    {
      "cell_type": "code",
      "execution_count": 10,
      "metadata": {
        "id": "h557qH5tsGpy"
      },
      "outputs": [],
      "source": [
        "def generate_dtset(x,y):\n",
        "  x_train, x_test, y_train, y_test = train_test_split(x, y, test_size = 0.01,shuffle=True)\n",
        "\n",
        "  # y_train = one_hot_matrix(y_train,NUM_Classes)\n",
        "  # y_test = one_hot_matrix(y_test,NUM_Classes)\n",
        "  print(type(y))\n",
        "  y_train = one_hot(y_train)\n",
        "  return x_train, x_test, y_train, y_test"
      ]
    },
    {
      "cell_type": "code",
      "source": [
        "def generate_dtset_135_24(x,y):\n",
        "  x_train, x_test, y_train, y_test =[],[],[],[]\n",
        "  for i,label in enumerate(y):\n",
        "    if label==3 or label==1 or label==5: # 135 -> train\n",
        "      x_train.append(x[i])\n",
        "      y_train.append(label)\n",
        "\n",
        "    else:# 24 -> test\n",
        "        x_test.append(x[i])\n",
        "        y_test.append(label) \n",
        "  y_train = one_hot(np.array(y_train))\n",
        "  return np.array(x_train),np.array(x_test),np.array(y_train),np.array(y_test)\n"
      ],
      "metadata": {
        "id": "VsACL43vPVly"
      },
      "execution_count": 53,
      "outputs": []
    },
    {
      "cell_type": "code",
      "execution_count": 11,
      "metadata": {
        "id": "m26I-_9JCTCC"
      },
      "outputs": [],
      "source": [
        "X, Y = read_data(2400000)\n",
        "#X, Y = read_data(10)"
      ]
    },
    {
      "cell_type": "code",
      "source": [
        "X.to_numpy().shape"
      ],
      "metadata": {
        "colab": {
          "base_uri": "https://localhost:8080/"
        },
        "id": "Twq2aIOahoCG",
        "outputId": "46c01d35-39e0-4778-ca25-5422ad568883"
      },
      "execution_count": 21,
      "outputs": [
        {
          "output_type": "execute_result",
          "data": {
            "text/plain": [
              "(2399143,)"
            ]
          },
          "metadata": {},
          "execution_count": 21
        }
      ]
    },
    {
      "cell_type": "code",
      "source": [
        "X.to_numpy()[0]"
      ],
      "metadata": {
        "colab": {
          "base_uri": "https://localhost:8080/"
        },
        "id": "zH9GX4sih5PO",
        "outputId": "431f2850-15ff-47f2-da92-28c3af7be43e"
      },
      "execution_count": 22,
      "outputs": [
        {
          "output_type": "execute_result",
          "data": {
            "text/plain": [
              "['what', 'spectacular', 'tutu', 'veri', 'slim']"
            ]
          },
          "metadata": {},
          "execution_count": 22
        }
      ]
    },
    {
      "cell_type": "code",
      "source": [
        "# if 135 \n",
        "x_train, x_test, y_train, y_test = generate_dtset_135_24(X.to_numpy(),Y.to_numpy())"
      ],
      "metadata": {
        "colab": {
          "base_uri": "https://localhost:8080/"
        },
        "id": "ttT5uLTvkMSq",
        "outputId": "e0e58809-4c97-4fad-ec50-884a4929b446"
      },
      "execution_count": 55,
      "outputs": [
        {
          "output_type": "stream",
          "name": "stderr",
          "text": [
            "<ipython-input-53-b954df6ccf2a>:12: VisibleDeprecationWarning: Creating an ndarray from ragged nested sequences (which is a list-or-tuple of lists-or-tuples-or ndarrays with different lengths or shapes) is deprecated. If you meant to do this, you must specify 'dtype=object' when creating the ndarray.\n",
            "  return np.array(x_train),np.array(x_test),np.array(y_train),np.array(y_test)\n"
          ]
        }
      ]
    },
    {
      "cell_type": "code",
      "execution_count": 12,
      "metadata": {
        "id": "CmwJHH-bsXqr",
        "colab": {
          "base_uri": "https://localhost:8080/"
        },
        "outputId": "15ff539e-29a0-433a-8326-f1c3f18ff9a6"
      },
      "outputs": [
        {
          "output_type": "stream",
          "name": "stdout",
          "text": [
            "<class 'pandas.core.series.Series'>\n"
          ]
        }
      ],
      "source": [
        "# x_train, x_test, y_train, y_test = generate_dtset(X,Y)"
      ]
    },
    {
      "cell_type": "code",
      "source": [
        "(y_train[:20])"
      ],
      "metadata": {
        "colab": {
          "base_uri": "https://localhost:8080/"
        },
        "id": "0zlCjG1R7rot",
        "outputId": "b033aeda-8e3c-48a5-98dd-ee3ef48db874"
      },
      "execution_count": 56,
      "outputs": [
        {
          "output_type": "execute_result",
          "data": {
            "text/plain": [
              "array([[0., 0., 0., 0., 1.],\n",
              "       [1., 0., 0., 0., 0.],\n",
              "       [0., 0., 0., 0., 1.],\n",
              "       [0., 0., 0., 0., 1.],\n",
              "       [0., 0., 0., 0., 1.],\n",
              "       [0., 0., 0., 0., 1.],\n",
              "       [0., 0., 0., 0., 1.],\n",
              "       [0., 0., 1., 0., 0.],\n",
              "       [0., 0., 0., 0., 1.],\n",
              "       [0., 0., 0., 0., 1.],\n",
              "       [0., 0., 0., 0., 1.],\n",
              "       [0., 0., 0., 0., 1.],\n",
              "       [0., 0., 0., 0., 1.],\n",
              "       [0., 0., 0., 0., 1.],\n",
              "       [0., 0., 0., 0., 1.],\n",
              "       [0., 0., 0., 0., 1.],\n",
              "       [0., 0., 0., 0., 1.],\n",
              "       [0., 0., 0., 0., 1.],\n",
              "       [0., 0., 0., 0., 1.],\n",
              "       [0., 0., 0., 0., 1.]])"
            ]
          },
          "metadata": {},
          "execution_count": 56
        }
      ]
    },
    {
      "cell_type": "code",
      "execution_count": 34,
      "metadata": {
        "id": "Rc68xG-qpN8Y"
      },
      "outputs": [],
      "source": [
        "# initiate tokenizer and fit in x_train data\n",
        "tokenizer = Tokenizer(num_words=None)\n",
        "tokenizer.fit_on_texts(x_train)"
      ]
    },
    {
      "cell_type": "code",
      "execution_count": 35,
      "metadata": {
        "id": "17LQFn3Zq7N-"
      },
      "outputs": [],
      "source": [
        "#tokenize x_train + x_test\n",
        "x_train_encd = tokenizer.texts_to_sequences(x_train)\n",
        "x_test_encd = tokenizer.texts_to_sequences(x_test)\n",
        "vocab_size = len(tokenizer.word_index) + 1"
      ]
    },
    {
      "cell_type": "code",
      "execution_count": 36,
      "metadata": {
        "id": "sy8sUeHiOg0a",
        "colab": {
          "base_uri": "https://localhost:8080/"
        },
        "outputId": "0b558a75-1bf8-4345-ca26-0e8f8cdc0717"
      },
      "outputs": [
        {
          "output_type": "execute_result",
          "data": {
            "text/plain": [
              "138822"
            ]
          },
          "metadata": {},
          "execution_count": 36
        }
      ],
      "source": [
        "vocab_size"
      ]
    },
    {
      "cell_type": "code",
      "execution_count": 37,
      "metadata": {
        "id": "_iOCNShzOLLK"
      },
      "outputs": [],
      "source": [
        "# pad x_train + x_test\n",
        "\n",
        "maxlen=global_length(x_train_encd)\n",
        "x_train_encd = pad_sequences(x_train_encd,maxlen)\n",
        "x_test_encd = pad_sequences(x_test_encd,maxlen)"
      ]
    },
    {
      "cell_type": "code",
      "source": [
        "x_train_encd.shape"
      ],
      "metadata": {
        "colab": {
          "base_uri": "https://localhost:8080/"
        },
        "id": "P1xZOd_fisb7",
        "outputId": "34df6a77-bb1a-4995-e62a-cb74895e58d6"
      },
      "execution_count": 38,
      "outputs": [
        {
          "output_type": "execute_result",
          "data": {
            "text/plain": [
              "(1894306, 26)"
            ]
          },
          "metadata": {},
          "execution_count": 38
        }
      ]
    },
    {
      "cell_type": "code",
      "source": [
        "wv_model['sara'].shape"
      ],
      "metadata": {
        "colab": {
          "base_uri": "https://localhost:8080/"
        },
        "id": "dOkuzTtAhJwa",
        "outputId": "1cec7b9c-9c1a-43ce-ab25-287aa3ea17da"
      },
      "execution_count": 39,
      "outputs": [
        {
          "output_type": "execute_result",
          "data": {
            "text/plain": [
              "(100,)"
            ]
          },
          "metadata": {},
          "execution_count": 39
        }
      ]
    },
    {
      "cell_type": "code",
      "source": [
        "def get_w2v_embd(wv_model,tokenizer,embed_dim=100):\n",
        "  vocab_size = len(tokenizer.word_index) + 1\n",
        "  e = np.zeros((vocab_size,embed_dim))\n",
        "  for w,i in tokenizer.word_index.items():\n",
        "    try:\n",
        "      v_e = wv_model[w]\n",
        "    except:\n",
        "        pass\n",
        "\n",
        "    e[i]=v_e     \n",
        "\n",
        "  return e"
      ],
      "metadata": {
        "id": "UyNxXvoEb_gP"
      },
      "execution_count": 40,
      "outputs": []
    },
    {
      "cell_type": "code",
      "source": [
        "matrix_W2V=get_w2v_embd(wv_model,tokenizer)"
      ],
      "metadata": {
        "id": "2FF_q4mTdgZj"
      },
      "execution_count": 41,
      "outputs": []
    },
    {
      "cell_type": "code",
      "source": [
        "(matrix_W2V).shape"
      ],
      "metadata": {
        "colab": {
          "base_uri": "https://localhost:8080/"
        },
        "id": "AEUClc0QeUgl",
        "outputId": "43236103-90f6-40f2-d068-63923c6ec26f"
      },
      "execution_count": 42,
      "outputs": [
        {
          "output_type": "execute_result",
          "data": {
            "text/plain": [
              "(138822, 100)"
            ]
          },
          "metadata": {},
          "execution_count": 42
        }
      ]
    },
    {
      "cell_type": "code",
      "execution_count": 57,
      "metadata": {
        "id": "4vFLNFWZPRYy"
      },
      "outputs": [],
      "source": [
        "# model \n",
        "# EMBED_DIM = 32\n",
        "EMBED_DIM = 128\n",
        "#LSTM_OUT = 64\n",
        "LSTM_OUT = 128\n",
        "dropout_rate = 0.2\n",
        "learning_rate=0.001\n",
        "#learning_rate=0.0001\n",
        "use_w2v=False\n",
        "from keras.initializers import Constant\n",
        "model =Sequential()\n",
        "\n",
        "if use_w2v:\n",
        "  # model.add(Embedding(input_dim=vocab_size, output_dim=100, input_length=maxlen,  weights=[matrix_W2V], trainable=True))\n",
        "    model.add(Embedding(input_dim=vocab_size, output_dim=100, input_length=maxlen,  embeddings_initializer=Constant(matrix_W2V)))\n",
        "\n",
        "else:\n",
        "  model.add(Embedding(input_dim=vocab_size,output_dim=EMBED_DIM,input_length=maxlen))\n",
        "  \n",
        "#model.add(LSTM(units=LSTM_OUT,kernel_regularizer=regularizers.l2(0.01)))\n",
        "# model.add(LSTM(units=LSTM_OUT))\n",
        "# model.add(tf.keras.layers.Bidirectional(LSTM(LSTM_OUT, dropout=dropout_rate)))\n",
        "# model.add(GRU(units=LSTM_OUT))\n",
        "# model.add(SimpleRNN(units=LSTM_OUT))\n",
        "\n",
        "model.add(LSTM(units=LSTM_OUT, return_sequences=True))\n",
        "model.add(tf.keras.layers.Dropout(dropout_rate))\n",
        "model.add(tf.keras.layers.BatchNormalization())\n",
        "\n",
        "model.add(LSTM(units=LSTM_OUT, return_sequences=True))\n",
        "model.add(tf.keras.layers.Dropout(dropout_rate))\n",
        "model.add(tf.keras.layers.BatchNormalization())\n",
        "\n",
        "model.add(LSTM(units=LSTM_OUT, return_sequences=False))\n",
        "model.add(Dropout(rate=dropout_rate))\n",
        "model.add(tf.keras.layers.BatchNormalization())\n",
        "\n",
        "model.add(Dense(5, activation='softmax'))\n",
        "# model.compile(optimizer=tf.keras.optimizers.Adam(learning_rate=learning_rate), loss='categorical_crossentropy', metrics=['accuracy'])\n",
        "model.compile(optimizer=tf.keras.optimizers.RMSprop(learning_rate=learning_rate), loss='categorical_crossentropy', metrics=['accuracy'])\n"
      ]
    },
    {
      "cell_type": "code",
      "execution_count": 58,
      "metadata": {
        "colab": {
          "base_uri": "https://localhost:8080/"
        },
        "id": "7AAivU0PbfVa",
        "outputId": "47a3971f-38d1-41cf-dd39-a486431e5050"
      },
      "outputs": [
        {
          "output_type": "stream",
          "name": "stdout",
          "text": [
            "Model: \"sequential_1\"\n",
            "_________________________________________________________________\n",
            " Layer (type)                Output Shape              Param #   \n",
            "=================================================================\n",
            " embedding_1 (Embedding)     (None, 26, 128)           17769216  \n",
            "                                                                 \n",
            " lstm_3 (LSTM)               (None, 26, 128)           131584    \n",
            "                                                                 \n",
            " dropout_3 (Dropout)         (None, 26, 128)           0         \n",
            "                                                                 \n",
            " batch_normalization_3 (Batc  (None, 26, 128)          512       \n",
            " hNormalization)                                                 \n",
            "                                                                 \n",
            " lstm_4 (LSTM)               (None, 26, 128)           131584    \n",
            "                                                                 \n",
            " dropout_4 (Dropout)         (None, 26, 128)           0         \n",
            "                                                                 \n",
            " batch_normalization_4 (Batc  (None, 26, 128)          512       \n",
            " hNormalization)                                                 \n",
            "                                                                 \n",
            " lstm_5 (LSTM)               (None, 128)               131584    \n",
            "                                                                 \n",
            " dropout_5 (Dropout)         (None, 128)               0         \n",
            "                                                                 \n",
            " batch_normalization_5 (Batc  (None, 128)              512       \n",
            " hNormalization)                                                 \n",
            "                                                                 \n",
            " dense_1 (Dense)             (None, 5)                 645       \n",
            "                                                                 \n",
            "=================================================================\n",
            "Total params: 18,166,149\n",
            "Trainable params: 18,165,381\n",
            "Non-trainable params: 768\n",
            "_________________________________________________________________\n",
            "None\n"
          ]
        }
      ],
      "source": [
        "print(model.summary())"
      ]
    },
    {
      "cell_type": "code",
      "execution_count": 59,
      "metadata": {
        "id": "c9fPjTcclgjk",
        "colab": {
          "base_uri": "https://localhost:8080/"
        },
        "outputId": "56f15477-b628-4bc4-ed3c-815fe6665bdd"
      },
      "outputs": [
        {
          "output_type": "stream",
          "name": "stdout",
          "text": [
            "Epoch 1/8\n",
            "6660/6660 [==============================] - 162s 23ms/step - loss: 0.3042 - accuracy: 0.8905 - val_loss: 0.2491 - val_accuracy: 0.9092\n",
            "Epoch 2/8\n",
            "6660/6660 [==============================] - 107s 16ms/step - loss: 0.2601 - accuracy: 0.9052 - val_loss: 0.2389 - val_accuracy: 0.9128\n",
            "Epoch 3/8\n",
            "6660/6660 [==============================] - 102s 15ms/step - loss: 0.2470 - accuracy: 0.9101 - val_loss: 0.2352 - val_accuracy: 0.9139\n",
            "Epoch 4/8\n",
            "6660/6660 [==============================] - 101s 15ms/step - loss: 0.2370 - accuracy: 0.9140 - val_loss: 0.2367 - val_accuracy: 0.9146\n",
            "Epoch 5/8\n",
            "6660/6660 [==============================] - 105s 16ms/step - loss: 0.2277 - accuracy: 0.9178 - val_loss: 0.2310 - val_accuracy: 0.9156\n",
            "Epoch 6/8\n",
            "6660/6660 [==============================] - 103s 15ms/step - loss: 0.2197 - accuracy: 0.9208 - val_loss: 0.2366 - val_accuracy: 0.9157\n",
            "Epoch 7/8\n",
            "6660/6660 [==============================] - 105s 16ms/step - loss: 0.2125 - accuracy: 0.9238 - val_loss: 0.2353 - val_accuracy: 0.9157\n",
            "Epoch 8/8\n",
            "6660/6660 [==============================] - 104s 16ms/step - loss: 0.2067 - accuracy: 0.9261 - val_loss: 0.2400 - val_accuracy: 0.9154\n"
          ]
        }
      ],
      "source": [
        "EPOCHS_NUM = 8\n",
        "history = model.fit(x_train_encd, y_train, batch_size=256, epochs=EPOCHS_NUM, validation_split=0.1)\n",
        " "
      ]
    },
    {
      "cell_type": "code",
      "execution_count": 66,
      "metadata": {
        "id": "xsTHLbPunU2-",
        "colab": {
          "base_uri": "https://localhost:8080/",
          "height": 331
        },
        "outputId": "e1adea74-1105-4648-bd76-3c69a7c3e3cc"
      },
      "outputs": [
        {
          "output_type": "display_data",
          "data": {
            "text/plain": [
              "<Figure size 640x480 with 1 Axes>"
            ],
            "image/png": "[encoded data removed]"
          },
          "metadata": {}
        }
      ],
      "source": [
        "from matplotlib import pyplot as plt\n",
        "plt.plot(history.history['accuracy']) \n",
        "plt.plot(history.history['val_accuracy']) \n",
        "title = 'trained on 135 3lstm layer-RMSprop lr=0.001- 128 out dim-2.4 M data-dropout 0.2-8 epoch-EMBED_DIM 128-LSTM_OUT 128'\n",
        "plt.title(title)\n",
        "plt.ylabel('accuracy') \n",
        "plt.xlabel('epoch')\n",
        "plt.legend(['train', 'val'], loc='upper left')\n",
        "plt.savefig(title+'.png')\n",
        "plt.show()"
      ]
    },
    {
      "cell_type": "code",
      "source": [
        "from matplotlib import pyplot as plt\n",
        "train_loss=history.history['loss']\n",
        "val_loss=history.history['val_loss']\n",
        "plt.plot(train_loss)\n",
        "plt.plot(val_loss)\n",
        "title = 'loss: trained on 135 3lstm layer-RMSprop lr=0.001- 128 out dim-2.4 M data-dropout 0.2-8 epoch-EMBED_DIM 128-LSTM_OUT 128'\n",
        "plt.title(title)\n",
        "plt.ylabel('loss')\n",
        "plt.xlabel('epoch')\n",
        "plt.legend(['train', 'val'], loc='upper left')\n",
        "plt.savefig(title+'.png')\n",
        "plt.show()"
      ],
      "metadata": {
        "id": "Itz4IRM3zwZD",
        "colab": {
          "base_uri": "https://localhost:8080/",
          "height": 318
        },
        "outputId": "60a7b46a-af76-4946-a1a6-a93713c85c67"
      },
      "execution_count": 65,
      "outputs": [
        {
          "output_type": "display_data",
          "data": {
            "text/plain": [
              "<Figure size 640x480 with 1 Axes>"
            ],
            "image/png": "[encoded data removed]"
          },
          "metadata": {}
        }
      ]
    },
    {
      "cell_type": "code",
      "source": [
        "model.metrics_names"
      ],
      "metadata": {
        "id": "n9VSGMAb3RKw",
        "colab": {
          "base_uri": "https://localhost:8080/"
        },
        "outputId": "416561bc-30c5-4fdc-f729-d16a457ffb92"
      },
      "execution_count": null,
      "outputs": [
        {
          "output_type": "execute_result",
          "data": {
            "text/plain": [
              "['loss', 'accuracy']"
            ]
          },
          "metadata": {},
          "execution_count": 43
        }
      ]
    },
    {
      "cell_type": "code",
      "source": [
        "# test_loss, test_accuracy = model.evaluate(x_test_encd,y_test,batch_size=256)"
      ],
      "metadata": {
        "id": "T8Vv-usw19pB"
      },
      "execution_count": null,
      "outputs": []
    },
    {
      "cell_type": "code",
      "source": [
        "# test_loss, test_accuracy = model.evaluate(x_test_encd,y_test,batch_size=32)"
      ],
      "metadata": {
        "id": "obI1CLBP1E0k"
      },
      "execution_count": null,
      "outputs": []
    },
    {
      "cell_type": "code",
      "source": [
        "from sklearn.metrics import accuracy_score\n",
        "y_pred = model.predict(x_test_encd)\n",
        "\n",
        "y_pred_ = []\n",
        "for i in range(y_pred.shape[0]):\n",
        "  y_pred_.append(np.argmax(y_pred[i])+1)\n",
        "\n",
        "accuracy_score(y_pred_, y_test)"
      ],
      "metadata": {
        "id": "aSf7cIWcQD62",
        "colab": {
          "base_uri": "https://localhost:8080/"
        },
        "outputId": "746fafbc-a804-4fc5-b767-e306dc950adc"
      },
      "execution_count": 62,
      "outputs": [
        {
          "output_type": "stream",
          "name": "stdout",
          "text": [
            "15777/15777 [==============================] - 62s 4ms/step\n"
          ]
        },
        {
          "output_type": "execute_result",
          "data": {
            "text/plain": [
              "0.0"
            ]
          },
          "metadata": {},
          "execution_count": 62
        }
      ]
    },
    {
      "cell_type": "code",
      "source": [
        "len(y_pred_)"
      ],
      "metadata": {
        "colab": {
          "base_uri": "https://localhost:8080/"
        },
        "id": "XuidwbTd7MkC",
        "outputId": "f66656e3-088f-4b23-adfa-144686409da7"
      },
      "execution_count": 78,
      "outputs": [
        {
          "output_type": "execute_result",
          "data": {
            "text/plain": [
              "504837"
            ]
          },
          "metadata": {},
          "execution_count": 78
        }
      ]
    },
    {
      "cell_type": "code",
      "source": [
        "for data in [13,100,567,239,600]:\n",
        "        print(f'ground label: {y_test[data]}, Predicted label: {y_pred_[data]}')"
      ],
      "metadata": {
        "colab": {
          "base_uri": "https://localhost:8080/"
        },
        "id": "Mht0JmHn4qnV",
        "outputId": "8e17e74d-dc9b-4102-e098-8eacb439f042"
      },
      "execution_count": 81,
      "outputs": [
        {
          "output_type": "stream",
          "name": "stdout",
          "text": [
            "ground label: 4, Predicted label: 5\n",
            "ground label: 4, Predicted label: 5\n",
            "ground label: 2, Predicted label: 3\n",
            "ground label: 4, Predicted label: 5\n",
            "ground label: 2, Predicted label: 5\n"
          ]
        }
      ]
    },
    {
      "cell_type": "code",
      "source": [
        "# print('test_loss: ',test_loss)\n",
        "# print('test_accuracy: ',test_accuracy)"
      ],
      "metadata": {
        "id": "LduzZCp-3Ysl"
      },
      "execution_count": null,
      "outputs": []
    },
    {
      "cell_type": "code",
      "source": [
        "# del model\n",
        "# import gc\n",
        "# gc.collect()"
      ],
      "metadata": {
        "id": "G2ImpwW8s99Y",
        "colab": {
          "base_uri": "https://localhost:8080/"
        },
        "outputId": "931ccf18-4e3c-4ac8-86d3-f2fff9842743"
      },
      "execution_count": null,
      "outputs": [
        {
          "output_type": "execute_result",
          "data": {
            "text/plain": [
              "20700"
            ]
          },
          "metadata": {},
          "execution_count": 46
        }
      ]
    },
    {
      "cell_type": "code",
      "source": [
        "#1 lstm layer-adam lr=0.0001- 128 out dim-2.4 M data-dropout 0.2-8 epoch-EMBED_DIM 128-LSTM_OUT 128  (base)\n",
        "# 14995/14995 [==============================] - 63s 4ms/step - loss: 1.5980 - accuracy: 0.5703\n",
        "\n",
        "\n",
        "#1 lstm layer-adam lr=0.0001- 64 out dim-2.4 M data-dropout 0.2-8 epoch-EMBED_DIM 128\n",
        "#14995/14995 [==============================] - 64s 4ms/step - loss: 1.0228 - accuracy: 0.6770\n",
        "\n",
        "## ///////////////////////////////////////////\n",
        "\n",
        "# 1 Bidirectional layer-RMSprop lr=0.001- 128 out dim-2.4 M data-dropout 0.2-8 epoch-EMBED_DIM 128-LSTM_OUT 128    ?????\n",
        "#  loss: 1.6450 - accuracy: 0.7479576525508503\n",
        "\n",
        "\n",
        "# 1 lstm layer-RMSprop lr=0.001- 128 out dim-2.4 M data-dropout 0.2-8 epoch-EMBED_DIM 128-LSTM_OUT 128\n",
        "#   0.7447065688562854\n",
        "\n",
        "\n",
        "# 1 GRU layer-RMSprop lr=0.001- 128 out dim-2.4 M data-dropout 0.2-8 epoch-EMBED_DIM 128-LSTM_OUT 128\n",
        "# 0.7494581527175725 \n",
        "\n",
        "# 1 SimpleRNN layer-RMSprop lr=0.001- 128 out dim-2.4 M data-dropout 0.2-8 epoch-EMBED_DIM 128-LSTM_OUT 128\n",
        "# 0.711403801267089\n",
        "\n",
        "\n",
        "#2 LSTM layer-RMSprop lr=0.001- 128 out dim-2.4 M data-dropout 0.2-8 epoch-EMBED_DIM 128-LSTM_OUT 128'\n",
        "#0.7489163054351451\n",
        "\n",
        "# 3 LSTM layer-RMSprop lr=0.001- 128 out dim-2.4 M data-dropout 0.2-8 epoch-EMBED_DIM 128-LSTM_OUT 128\n",
        "# 0.7512087362454152     *******\n",
        "\n",
        "# 2 lstm+1 gru layer-RMSprop lr=0.001- 128 out dim-2.4 M data-dropout 0.2-8 epoch-EMBED_DIM 128-LSTM_OUT 128\n",
        "# 0.7476658886295432\n",
        "\n",
        "# 4 LSTM layer-RMSprop lr=0.001- 128 out dim-2.4 M data-dropout 0.2-8 epoch-EMBED_DIM 128-LSTM_OUT 128\n",
        "# 0.7510003334444815\n",
        "\n",
        "# W2V 3lstm layer-RMSprop lr=0.001- 128 out dim-2.4 M data-dropout 0.2-8 epoch-EMBED_DIM 128-LSTM_OUT 128\n",
        "# 0.7496248749583194\n",
        "\n",
        "#trained on 135 3lstm layer-RMSprop lr=0.001- 128 out dim-2.4 M data-dropout 0.2-8 epoch-EMBED_DIM 128-LSTM_OUT 128\n",
        "# 0.0\n",
        "\n"
      ],
      "metadata": {
        "id": "-uy02vIZFc4V"
      },
      "execution_count": 52,
      "outputs": []
    }
  ],
  "metadata": {
    "accelerator": "GPU",
    "colab": {
      "provenance": [],
      "gpuType": "T4"
    },
    "kernelspec": {
      "display_name": "Python 3",
      "name": "python3"
    },
    "language_info": {
      "name": "python"
    }
  },
  "nbformat": 4,
  "nbformat_minor": 0
}